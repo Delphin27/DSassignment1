{
  "metadata": {
    "kernelspec": {
      "name": "python",
      "display_name": "Python (Pyodide)",
      "language": "python"
    },
    "language_info": {
      "codemirror_mode": {
        "name": "python",
        "version": 3
      },
      "file_extension": ".py",
      "mimetype": "text/x-python",
      "name": "python",
      "nbconvert_exporter": "python",
      "pygments_lexer": "ipython3",
      "version": "3.8"
    }
  },
  "nbformat_minor": 5,
  "nbformat": 4,
  "cells": [
    {
      "id": "0574bc07-3d1b-4e66-a21e-1fd443b3a622",
      "cell_type": "markdown",
      "source": "# Data Science Tools and Ecosystem\n",
      "metadata": {}
    },
    {
      "id": "606d1bdb-dd99-4aed-992a-6d9acf4cebcd",
      "cell_type": "markdown",
      "source": "In this notebook, Data Science Tools and Ecosystem are summarized.",
      "metadata": {}
    },
    {
      "id": "63fcb4dd-5171-435f-befe-93777972ed49",
      "cell_type": "markdown",
      "source": "Some of the popular languages that Data Scientists use are:\n1. SQL\n2. Java\n3. R\n4. Python",
      "metadata": {}
    },
    {
      "id": "91e7bf6f-d4bd-4ffe-98e1-2ec78c80900d",
      "cell_type": "markdown",
      "source": "Some of the commonly used libraries used by Data Scientists include:\n1. Numpy\n2. Pandas\n3. Matplotlib\n4. Scipy",
      "metadata": {}
    },
    {
      "id": "46b8b37d-aeca-4f80-a886-5d0bddb0129b",
      "cell_type": "markdown",
      "source": "| Data Science Tools |\n| --- |\n| Pandas |\n| Jupyter Notebooks |\n| Scrapy |",
      "metadata": {}
    },
    {
      "id": "1b463776-1431-4183-83b4-5d1a03630608",
      "cell_type": "markdown",
      "source": "### Below are a few examples of evaluating arithmetic expressions in Python",
      "metadata": {}
    },
    {
      "id": "4cf4e962-0327-417c-8094-d565830dff98",
      "cell_type": "markdown",
      "source": "This a simple arithmetic expression to mutiply then add integers\n$ (3*4)+5 $\n",
      "metadata": {}
    },
    {
      "id": "4920cc1b-b991-47cb-bb2a-b920880856c5",
      "cell_type": "code",
      "source": "(3*4)+5",
      "metadata": {
        "trusted": true
      },
      "outputs": [
        {
          "execution_count": 2,
          "output_type": "execute_result",
          "data": {
            "text/plain": "17"
          },
          "metadata": {}
        }
      ],
      "execution_count": 2
    },
    {
      "id": "22251a50-6e8e-43aa-9505-fbbe8030120f",
      "cell_type": "markdown",
      "source": "This will convert 200 minutes to hours by diving by 60",
      "metadata": {}
    },
    {
      "id": "c20a163f-a389-4a62-88cc-d5ea2a6f48c8",
      "cell_type": "code",
      "source": "200/60",
      "metadata": {
        "trusted": true
      },
      "outputs": [
        {
          "execution_count": 3,
          "output_type": "execute_result",
          "data": {
            "text/plain": "3.3333333333333335"
          },
          "metadata": {}
        }
      ],
      "execution_count": 3
    },
    {
      "id": "ccf4b569-7e5d-4923-8661-7bb3895d92fa",
      "cell_type": "markdown",
      "source": "Objectives: List popular languages for Data Science",
      "metadata": {}
    },
    {
      "id": "b895c3a0-6cb7-44b6-ab07-92c224b14ded",
      "cell_type": "markdown",
      "source": "- SQL\n- R\n- Java\n- Scala\n- SAS",
      "metadata": {}
    },
    {
      "id": "f8c99ab0-16a6-44fd-82ae-719bad24d67a",
      "cell_type": "markdown",
      "source": "## Author\nXiaoLing Huang",
      "metadata": {}
    },
    {
      "id": "b7ca7d79-081f-42ff-8072-cb5a4cac1b95",
      "cell_type": "code",
      "source": "",
      "metadata": {
        "trusted": true
      },
      "outputs": [],
      "execution_count": null
    }
  ]
}